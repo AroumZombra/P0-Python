{
 "cells": [
  {
   "attachments": {},
   "cell_type": "markdown",
   "metadata": {},
   "source": [
    "## Python Basics\n",
    "\n",
    "### Table of Contents\n",
    "\n",
    "-   Operators\n",
    "-   Strings\n",
    "-   Dir and Help\n",
    "-   Built-in Data Structures\n",
    "    -   Lists\n",
    "    -   Tuples\n",
    "    -   Sets\n",
    "    -   Dictionaries\n",
    "-   Writing Scripts\n",
    "-   Indentation\n",
    "-   Tabs vs Spaces\n",
    "-   Writing Functions\n",
    "-   Object Basics\n",
    "    -   Defining Classes\n",
    "    -   Using Objects\n",
    "    -   Static vs Instance Variables\n",
    "-   Tips and Tricks\n",
    "-   Troubleshooting\n",
    "-   More References\n"
   ]
  },
  {
   "attachments": {},
   "cell_type": "markdown",
   "metadata": {},
   "source": [
    "### Operators\n",
    "\n",
    "The Python interpreter can be used to evaluate expressions, for example\n",
    "simple arithmetic expressions. If you enter such expressions in a code cell, then the result will show up on the first line after the code cell. (Only the last line will be shown if you have multiple lines.)\n"
   ]
  },
  {
   "cell_type": "code",
   "execution_count": 1,
   "metadata": {},
   "outputs": [
    {
     "data": {
      "text/plain": [
       "2"
      ]
     },
     "execution_count": 1,
     "metadata": {},
     "output_type": "execute_result"
    }
   ],
   "source": [
    "1 + 1"
   ]
  },
  {
   "cell_type": "code",
   "execution_count": 2,
   "metadata": {},
   "outputs": [
    {
     "data": {
      "text/plain": [
       "6"
      ]
     },
     "execution_count": 2,
     "metadata": {},
     "output_type": "execute_result"
    }
   ],
   "source": [
    "2 * 3"
   ]
  },
  {
   "attachments": {},
   "cell_type": "markdown",
   "metadata": {},
   "source": [
    "With both in the same cell, only the result of the last expression is shown:"
   ]
  },
  {
   "cell_type": "code",
   "execution_count": 3,
   "metadata": {},
   "outputs": [
    {
     "data": {
      "text/plain": [
       "6"
      ]
     },
     "execution_count": 3,
     "metadata": {},
     "output_type": "execute_result"
    }
   ],
   "source": [
    "1 + 1\n",
    "2 * 3"
   ]
  },
  {
   "attachments": {},
   "cell_type": "markdown",
   "metadata": {},
   "source": [
    "Boolean operators also exist in Python to manipulate the primitive\n",
    "`True` and `False` values."
   ]
  },
  {
   "cell_type": "code",
   "execution_count": 4,
   "metadata": {},
   "outputs": [
    {
     "data": {
      "text/plain": [
       "False"
      ]
     },
     "execution_count": 4,
     "metadata": {},
     "output_type": "execute_result"
    }
   ],
   "source": [
    "1 == 0"
   ]
  },
  {
   "cell_type": "code",
   "execution_count": 5,
   "metadata": {},
   "outputs": [
    {
     "data": {
      "text/plain": [
       "True"
      ]
     },
     "execution_count": 5,
     "metadata": {},
     "output_type": "execute_result"
    }
   ],
   "source": [
    "not (1 == 0)"
   ]
  },
  {
   "cell_type": "code",
   "execution_count": 6,
   "metadata": {},
   "outputs": [
    {
     "data": {
      "text/plain": [
       "False"
      ]
     },
     "execution_count": 6,
     "metadata": {},
     "output_type": "execute_result"
    }
   ],
   "source": [
    "(2 == 2) and (2 == 3)"
   ]
  },
  {
   "cell_type": "code",
   "execution_count": 7,
   "metadata": {},
   "outputs": [
    {
     "data": {
      "text/plain": [
       "True"
      ]
     },
     "execution_count": 7,
     "metadata": {},
     "output_type": "execute_result"
    }
   ],
   "source": [
    "(2 == 2) or (2 == 3)"
   ]
  },
  {
   "attachments": {},
   "cell_type": "markdown",
   "metadata": {},
   "source": [
    "### Strings\n",
    "\n",
    "Like Java, Python has a built in string type. The\n",
    "`+` operator is overloaded to do string\n",
    "concatenation on string values."
   ]
  },
  {
   "cell_type": "code",
   "execution_count": 8,
   "metadata": {},
   "outputs": [
    {
     "data": {
      "text/plain": [
       "'artificialintelligence'"
      ]
     },
     "execution_count": 8,
     "metadata": {},
     "output_type": "execute_result"
    }
   ],
   "source": [
    "'artificial' + \"intelligence\""
   ]
  },
  {
   "cell_type": "code",
   "execution_count": 9,
   "metadata": {},
   "outputs": [
    {
     "data": {
      "text/plain": [
       "'ARTIFICIAL'"
      ]
     },
     "execution_count": 9,
     "metadata": {},
     "output_type": "execute_result"
    }
   ],
   "source": [
    "'artificial'.upper()"
   ]
  },
  {
   "cell_type": "code",
   "execution_count": 10,
   "metadata": {},
   "outputs": [
    {
     "data": {
      "text/plain": [
       "'help'"
      ]
     },
     "execution_count": 10,
     "metadata": {},
     "output_type": "execute_result"
    }
   ],
   "source": [
    "'HELP'.lower()"
   ]
  },
  {
   "cell_type": "code",
   "execution_count": 11,
   "metadata": {},
   "outputs": [
    {
     "data": {
      "text/plain": [
       "4"
      ]
     },
     "execution_count": 11,
     "metadata": {},
     "output_type": "execute_result"
    }
   ],
   "source": [
    "len('Help')"
   ]
  },
  {
   "attachments": {},
   "cell_type": "markdown",
   "metadata": {},
   "source": [
    "Notice that we can use either single quotes `' '` or\n",
    "double quotes `\" \"` to surround string. This allows\n",
    "for easy nesting of strings.\n",
    "\n",
    "We can also store expressions into variables."
   ]
  },
  {
   "cell_type": "code",
   "execution_count": 12,
   "metadata": {},
   "outputs": [
    {
     "name": "stdout",
     "output_type": "stream",
     "text": [
      "hello world\n"
     ]
    }
   ],
   "source": [
    "s = 'hello world'\n",
    "print(s)"
   ]
  },
  {
   "cell_type": "code",
   "execution_count": 13,
   "metadata": {},
   "outputs": [
    {
     "data": {
      "text/plain": [
       "'HELLO WORLD'"
      ]
     },
     "execution_count": 13,
     "metadata": {},
     "output_type": "execute_result"
    }
   ],
   "source": [
    "s.upper()"
   ]
  },
  {
   "cell_type": "code",
   "execution_count": 14,
   "metadata": {},
   "outputs": [
    {
     "data": {
      "text/plain": [
       "11"
      ]
     },
     "execution_count": 14,
     "metadata": {},
     "output_type": "execute_result"
    }
   ],
   "source": [
    "len(s)"
   ]
  },
  {
   "cell_type": "code",
   "execution_count": 15,
   "metadata": {},
   "outputs": [
    {
     "name": "stdout",
     "output_type": "stream",
     "text": [
      "10.5\n"
     ]
    }
   ],
   "source": [
    "num = 8.0\n",
    "num += 2.5\n",
    "print(num)"
   ]
  },
  {
   "attachments": {},
   "cell_type": "markdown",
   "metadata": {},
   "source": [
    "In Python, you do not have declare variables before you assign to them.\n",
    "\n",
    "\n",
    "### Exercise: Dir and Help\n",
    "\n",
    "Learn about the methods Python provides for strings. To see what methods\n",
    "Python provides for a datatype, use the `dir` and\n",
    "`help` commands:"
   ]
  },
  {
   "cell_type": "code",
   "execution_count": 16,
   "metadata": {},
   "outputs": [
    {
     "data": {
      "text/plain": [
       "['__add__',\n",
       " '__class__',\n",
       " '__contains__',\n",
       " '__delattr__',\n",
       " '__dir__',\n",
       " '__doc__',\n",
       " '__eq__',\n",
       " '__format__',\n",
       " '__ge__',\n",
       " '__getattribute__',\n",
       " '__getitem__',\n",
       " '__getnewargs__',\n",
       " '__gt__',\n",
       " '__hash__',\n",
       " '__init__',\n",
       " '__init_subclass__',\n",
       " '__iter__',\n",
       " '__le__',\n",
       " '__len__',\n",
       " '__lt__',\n",
       " '__mod__',\n",
       " '__mul__',\n",
       " '__ne__',\n",
       " '__new__',\n",
       " '__reduce__',\n",
       " '__reduce_ex__',\n",
       " '__repr__',\n",
       " '__rmod__',\n",
       " '__rmul__',\n",
       " '__setattr__',\n",
       " '__sizeof__',\n",
       " '__str__',\n",
       " '__subclasshook__',\n",
       " 'capitalize',\n",
       " 'casefold',\n",
       " 'center',\n",
       " 'count',\n",
       " 'encode',\n",
       " 'endswith',\n",
       " 'expandtabs',\n",
       " 'find',\n",
       " 'format',\n",
       " 'format_map',\n",
       " 'index',\n",
       " 'isalnum',\n",
       " 'isalpha',\n",
       " 'isascii',\n",
       " 'isdecimal',\n",
       " 'isdigit',\n",
       " 'isidentifier',\n",
       " 'islower',\n",
       " 'isnumeric',\n",
       " 'isprintable',\n",
       " 'isspace',\n",
       " 'istitle',\n",
       " 'isupper',\n",
       " 'join',\n",
       " 'ljust',\n",
       " 'lower',\n",
       " 'lstrip',\n",
       " 'maketrans',\n",
       " 'partition',\n",
       " 'replace',\n",
       " 'rfind',\n",
       " 'rindex',\n",
       " 'rjust',\n",
       " 'rpartition',\n",
       " 'rsplit',\n",
       " 'rstrip',\n",
       " 'split',\n",
       " 'splitlines',\n",
       " 'startswith',\n",
       " 'strip',\n",
       " 'swapcase',\n",
       " 'title',\n",
       " 'translate',\n",
       " 'upper',\n",
       " 'zfill']"
      ]
     },
     "execution_count": 16,
     "metadata": {},
     "output_type": "execute_result"
    }
   ],
   "source": [
    "s = 'abc'\n",
    "dir(s)"
   ]
  },
  {
   "cell_type": "code",
   "execution_count": 17,
   "metadata": {},
   "outputs": [
    {
     "name": "stdout",
     "output_type": "stream",
     "text": [
      "Help on built-in function find:\n",
      "\n",
      "find(...) method of builtins.str instance\n",
      "    S.find(sub[, start[, end]]) -> int\n",
      "    \n",
      "    Return the lowest index in S where substring sub is found,\n",
      "    such that sub is contained within S[start:end].  Optional\n",
      "    arguments start and end are interpreted as in slice notation.\n",
      "    \n",
      "    Return -1 on failure.\n",
      "\n"
     ]
    }
   ],
   "source": [
    "help(s.find)"
   ]
  },
  {
   "cell_type": "code",
   "execution_count": 18,
   "metadata": {},
   "outputs": [
    {
     "data": {
      "text/plain": [
       "1"
      ]
     },
     "execution_count": 18,
     "metadata": {},
     "output_type": "execute_result"
    }
   ],
   "source": [
    "s.find('b')"
   ]
  },
  {
   "attachments": {},
   "cell_type": "markdown",
   "metadata": {},
   "source": [
    "Try out some of the string functions listed in `dir`\n",
    "(ignore those with underscores `_` around the method name). Press 'q'\n",
    "to back out of a help screen."
   ]
  },
  {
   "attachments": {},
   "cell_type": "markdown",
   "metadata": {},
   "source": [
    "### Built-in Data Structures\n",
    "\n",
    "Python comes equipped with some useful built-in data structures, broadly\n",
    "similar to Java's collections package."
   ]
  },
  {
   "attachments": {},
   "cell_type": "markdown",
   "metadata": {},
   "source": [
    "#### Lists\n",
    "\n",
    "*Lists* store a sequence of mutable items:"
   ]
  },
  {
   "cell_type": "code",
   "execution_count": 19,
   "metadata": {},
   "outputs": [
    {
     "data": {
      "text/plain": [
       "'apple'"
      ]
     },
     "execution_count": 19,
     "metadata": {},
     "output_type": "execute_result"
    }
   ],
   "source": [
    "fruits = ['apple', 'orange', 'pear', 'banana']\n",
    "fruits[0]"
   ]
  },
  {
   "attachments": {},
   "cell_type": "markdown",
   "metadata": {},
   "source": [
    "We can use the `+` operator to do list\n",
    "concatenation:"
   ]
  },
  {
   "cell_type": "code",
   "execution_count": 20,
   "metadata": {},
   "outputs": [
    {
     "data": {
      "text/plain": [
       "['apple', 'orange', 'pear', 'banana', 'kiwi', 'strawberry']"
      ]
     },
     "execution_count": 20,
     "metadata": {},
     "output_type": "execute_result"
    }
   ],
   "source": [
    "otherFruits = ['kiwi', 'strawberry']\n",
    "fruits + otherFruits"
   ]
  },
  {
   "attachments": {},
   "cell_type": "markdown",
   "metadata": {},
   "source": [
    "Python also allows negative-indexing from the back of the list. For\n",
    "instance, `fruits[-1]` will access the last element\n",
    "`'banana'`:"
   ]
  },
  {
   "cell_type": "code",
   "execution_count": 21,
   "metadata": {},
   "outputs": [
    {
     "data": {
      "text/plain": [
       "'pear'"
      ]
     },
     "execution_count": 21,
     "metadata": {},
     "output_type": "execute_result"
    }
   ],
   "source": [
    "fruits[-2]"
   ]
  },
  {
   "attachments": {},
   "cell_type": "markdown",
   "metadata": {},
   "source": [
    "`.pop()` removes and returns the end of the list:"
   ]
  },
  {
   "cell_type": "code",
   "execution_count": 22,
   "metadata": {},
   "outputs": [
    {
     "data": {
      "text/plain": [
       "'banana'"
      ]
     },
     "execution_count": 22,
     "metadata": {},
     "output_type": "execute_result"
    }
   ],
   "source": [
    "fruits.pop()"
   ]
  },
  {
   "attachments": {},
   "cell_type": "markdown",
   "metadata": {},
   "source": [
    "Show the resulting list:"
   ]
  },
  {
   "cell_type": "code",
   "execution_count": 23,
   "metadata": {},
   "outputs": [
    {
     "data": {
      "text/plain": [
       "['apple', 'orange', 'pear']"
      ]
     },
     "execution_count": 23,
     "metadata": {},
     "output_type": "execute_result"
    }
   ],
   "source": [
    "fruits"
   ]
  },
  {
   "cell_type": "code",
   "execution_count": 24,
   "metadata": {},
   "outputs": [
    {
     "data": {
      "text/plain": [
       "['apple', 'orange', 'pear', 'grapefruit']"
      ]
     },
     "execution_count": 24,
     "metadata": {},
     "output_type": "execute_result"
    }
   ],
   "source": [
    "fruits.append('grapefruit')\n",
    "fruits"
   ]
  },
  {
   "cell_type": "code",
   "execution_count": 25,
   "metadata": {},
   "outputs": [
    {
     "data": {
      "text/plain": [
       "['apple', 'orange', 'pear', 'pineapple']"
      ]
     },
     "execution_count": 25,
     "metadata": {},
     "output_type": "execute_result"
    }
   ],
   "source": [
    "fruits[-1] = 'pineapple'\n",
    "fruits"
   ]
  },
  {
   "attachments": {},
   "cell_type": "markdown",
   "metadata": {},
   "source": [
    "We can also index multiple adjacent elements using the slice operator.\n",
    "For instance, `fruits[1:3]`, returns a list\n",
    "containing the elements at position 1 and 2. In general\n",
    "`fruits[start:stop]` will get the elements in\n",
    "`start, start+1, ..., stop-1`. We can also do\n",
    "`fruits[start:]` which returns all elements starting\n",
    "from the `start` index. Also\n",
    "`fruits[:end]` will return all elements before the\n",
    "element at position `end`:"
   ]
  },
  {
   "cell_type": "code",
   "execution_count": 26,
   "metadata": {},
   "outputs": [
    {
     "data": {
      "text/plain": [
       "['apple', 'orange']"
      ]
     },
     "execution_count": 26,
     "metadata": {},
     "output_type": "execute_result"
    }
   ],
   "source": [
    "fruits[0:2]"
   ]
  },
  {
   "cell_type": "code",
   "execution_count": 27,
   "metadata": {},
   "outputs": [
    {
     "data": {
      "text/plain": [
       "['apple', 'orange', 'pear']"
      ]
     },
     "execution_count": 27,
     "metadata": {},
     "output_type": "execute_result"
    }
   ],
   "source": [
    "fruits[:3]"
   ]
  },
  {
   "cell_type": "code",
   "execution_count": 28,
   "metadata": {},
   "outputs": [
    {
     "data": {
      "text/plain": [
       "['pear', 'pineapple']"
      ]
     },
     "execution_count": 28,
     "metadata": {},
     "output_type": "execute_result"
    }
   ],
   "source": [
    "fruits[2:]"
   ]
  },
  {
   "cell_type": "code",
   "execution_count": 29,
   "metadata": {},
   "outputs": [
    {
     "data": {
      "text/plain": [
       "4"
      ]
     },
     "execution_count": 29,
     "metadata": {},
     "output_type": "execute_result"
    }
   ],
   "source": [
    "len(fruits)"
   ]
  },
  {
   "attachments": {},
   "cell_type": "markdown",
   "metadata": {},
   "source": [
    "The items stored in lists can be any Python data type. So for instance\n",
    "we can have lists of lists:"
   ]
  },
  {
   "cell_type": "code",
   "execution_count": 30,
   "metadata": {},
   "outputs": [],
   "source": [
    "lstOfLsts = [['a', 'b', 'c'], \n",
    "             [1, 2, 3], \n",
    "             ['one', 'two', 'three']]\n"
   ]
  },
  {
   "attachments": {},
   "cell_type": "markdown",
   "metadata": {},
   "source": [
    "The item at row 1 column 2 is:"
   ]
  },
  {
   "cell_type": "code",
   "execution_count": 31,
   "metadata": {},
   "outputs": [
    {
     "data": {
      "text/plain": [
       "3"
      ]
     },
     "execution_count": 31,
     "metadata": {},
     "output_type": "execute_result"
    }
   ],
   "source": [
    "lstOfLsts[1][2]"
   ]
  },
  {
   "attachments": {},
   "cell_type": "markdown",
   "metadata": {},
   "source": [
    "remove the last item from the first row:"
   ]
  },
  {
   "cell_type": "code",
   "execution_count": 32,
   "metadata": {},
   "outputs": [
    {
     "data": {
      "text/plain": [
       "'c'"
      ]
     },
     "execution_count": 32,
     "metadata": {},
     "output_type": "execute_result"
    }
   ],
   "source": [
    "lstOfLsts[0].pop()"
   ]
  },
  {
   "cell_type": "code",
   "execution_count": 33,
   "metadata": {},
   "outputs": [
    {
     "data": {
      "text/plain": [
       "[['a', 'b'], [1, 2, 3], ['one', 'two', 'three']]"
      ]
     },
     "execution_count": 33,
     "metadata": {},
     "output_type": "execute_result"
    }
   ],
   "source": [
    "lstOfLsts"
   ]
  },
  {
   "attachments": {},
   "cell_type": "markdown",
   "metadata": {},
   "source": [
    "### Exercise: Lists\n",
    "\n",
    "Play with some of the list functions. You can find the methods you can\n",
    "call on an object via the `dir` and get information\n",
    "about them via the `help` command:"
   ]
  },
  {
   "cell_type": "code",
   "execution_count": 34,
   "metadata": {},
   "outputs": [
    {
     "data": {
      "text/plain": [
       "['__add__',\n",
       " '__class__',\n",
       " '__contains__',\n",
       " '__delattr__',\n",
       " '__delitem__',\n",
       " '__dir__',\n",
       " '__doc__',\n",
       " '__eq__',\n",
       " '__format__',\n",
       " '__ge__',\n",
       " '__getattribute__',\n",
       " '__getitem__',\n",
       " '__gt__',\n",
       " '__hash__',\n",
       " '__iadd__',\n",
       " '__imul__',\n",
       " '__init__',\n",
       " '__init_subclass__',\n",
       " '__iter__',\n",
       " '__le__',\n",
       " '__len__',\n",
       " '__lt__',\n",
       " '__mul__',\n",
       " '__ne__',\n",
       " '__new__',\n",
       " '__reduce__',\n",
       " '__reduce_ex__',\n",
       " '__repr__',\n",
       " '__reversed__',\n",
       " '__rmul__',\n",
       " '__setattr__',\n",
       " '__setitem__',\n",
       " '__sizeof__',\n",
       " '__str__',\n",
       " '__subclasshook__',\n",
       " 'append',\n",
       " 'clear',\n",
       " 'copy',\n",
       " 'count',\n",
       " 'extend',\n",
       " 'index',\n",
       " 'insert',\n",
       " 'pop',\n",
       " 'remove',\n",
       " 'reverse',\n",
       " 'sort']"
      ]
     },
     "execution_count": 34,
     "metadata": {},
     "output_type": "execute_result"
    }
   ],
   "source": [
    "dir(list)"
   ]
  },
  {
   "cell_type": "code",
   "execution_count": 35,
   "metadata": {},
   "outputs": [
    {
     "name": "stdout",
     "output_type": "stream",
     "text": [
      "Help on method_descriptor:\n",
      "\n",
      "reverse(self, /)\n",
      "    Reverse *IN PLACE*.\n",
      "\n"
     ]
    }
   ],
   "source": [
    "help(list.reverse)"
   ]
  },
  {
   "cell_type": "code",
   "execution_count": 36,
   "metadata": {},
   "outputs": [
    {
     "data": {
      "text/plain": [
       "['c', 'b', 'a']"
      ]
     },
     "execution_count": 36,
     "metadata": {},
     "output_type": "execute_result"
    }
   ],
   "source": [
    "lst = ['a', 'b', 'c']\n",
    "lst.reverse()\n",
    "lst"
   ]
  },
  {
   "attachments": {},
   "cell_type": "markdown",
   "metadata": {},
   "source": [
    "Note: Ignore functions with underscores `_` around the names; these are\n",
    "private helper methods."
   ]
  },
  {
   "attachments": {},
   "cell_type": "markdown",
   "metadata": {},
   "source": [
    "#### Tuples\n",
    "\n",
    "A data structure similar to the list is the *tuple*, which is like a\n",
    "list except that it is immutable once it is created (i.e. you cannot\n",
    "change its content once created). Note that tuples are surrounded with\n",
    "parentheses while lists have square brackets."
   ]
  },
  {
   "cell_type": "code",
   "execution_count": 37,
   "metadata": {},
   "outputs": [
    {
     "data": {
      "text/plain": [
       "3"
      ]
     },
     "execution_count": 37,
     "metadata": {},
     "output_type": "execute_result"
    }
   ],
   "source": [
    "pair = (3, 5)\n",
    "pair[0]"
   ]
  },
  {
   "cell_type": "code",
   "execution_count": 38,
   "metadata": {},
   "outputs": [
    {
     "data": {
      "text/plain": [
       "3"
      ]
     },
     "execution_count": 38,
     "metadata": {},
     "output_type": "execute_result"
    }
   ],
   "source": [
    "x, y = pair\n",
    "x"
   ]
  },
  {
   "cell_type": "code",
   "execution_count": 39,
   "metadata": {},
   "outputs": [
    {
     "data": {
      "text/plain": [
       "5"
      ]
     },
     "execution_count": 39,
     "metadata": {},
     "output_type": "execute_result"
    }
   ],
   "source": [
    "y"
   ]
  },
  {
   "cell_type": "code",
   "execution_count": 40,
   "metadata": {},
   "outputs": [
    {
     "ename": "TypeError",
     "evalue": "'tuple' object does not support item assignment",
     "output_type": "error",
     "traceback": [
      "\u001b[0;31m---------------------------------------------------------------------------\u001b[0m",
      "\u001b[0;31mTypeError\u001b[0m                                 Traceback (most recent call last)",
      "Cell \u001b[0;32mIn [40], line 1\u001b[0m\n\u001b[0;32m----> 1\u001b[0m pair[\u001b[39m1\u001b[39;49m] \u001b[39m=\u001b[39m \u001b[39m6\u001b[39m\n",
      "\u001b[0;31mTypeError\u001b[0m: 'tuple' object does not support item assignment"
     ]
    }
   ],
   "source": [
    "pair[1] = 6"
   ]
  },
  {
   "attachments": {},
   "cell_type": "markdown",
   "metadata": {},
   "source": [
    "The attempt to modify an immutable structure raised an exception.\n",
    "Exceptions indicate errors: index out of bounds errors, type errors, and\n",
    "so on will all report exceptions in this way."
   ]
  },
  {
   "attachments": {},
   "cell_type": "markdown",
   "metadata": {},
   "source": [
    "#### Sets\n",
    "\n",
    "A *set* is another data structure that serves as an unordered list with\n",
    "no duplicate items. Below, we show how to create a set:"
   ]
  },
  {
   "cell_type": "code",
   "execution_count": 41,
   "metadata": {},
   "outputs": [
    {
     "data": {
      "text/plain": [
       "{'circle', 'square', 'triangle'}"
      ]
     },
     "execution_count": 41,
     "metadata": {},
     "output_type": "execute_result"
    }
   ],
   "source": [
    "shapes = ['circle', 'square', 'triangle', 'circle']\n",
    "setOfShapes = set(shapes)\n",
    "setOfShapes"
   ]
  },
  {
   "attachments": {},
   "cell_type": "markdown",
   "metadata": {},
   "source": [
    "Another way of creating a set is shown below:"
   ]
  },
  {
   "cell_type": "code",
   "execution_count": 42,
   "metadata": {},
   "outputs": [
    {
     "data": {
      "text/plain": [
       "{'circle', 'square', 'triangle'}"
      ]
     },
     "execution_count": 42,
     "metadata": {},
     "output_type": "execute_result"
    }
   ],
   "source": [
    "setOfShapes = {'circle', 'square', 'triangle', 'circle'}\n",
    "setOfShapes"
   ]
  },
  {
   "attachments": {},
   "cell_type": "markdown",
   "metadata": {},
   "source": [
    "Next, we show how to add things to the set, test if an item is in the\n",
    "set, and perform common set operations (difference, intersection,\n",
    "union):"
   ]
  },
  {
   "cell_type": "code",
   "execution_count": 43,
   "metadata": {},
   "outputs": [
    {
     "data": {
      "text/plain": [
       "{'circle', 'polygon', 'square', 'triangle'}"
      ]
     },
     "execution_count": 43,
     "metadata": {},
     "output_type": "execute_result"
    }
   ],
   "source": [
    "setOfShapes.add('polygon')\n",
    "setOfShapes"
   ]
  },
  {
   "cell_type": "code",
   "execution_count": 44,
   "metadata": {},
   "outputs": [
    {
     "data": {
      "text/plain": [
       "True"
      ]
     },
     "execution_count": 44,
     "metadata": {},
     "output_type": "execute_result"
    }
   ],
   "source": [
    "'circle' in setOfShapes"
   ]
  },
  {
   "cell_type": "code",
   "execution_count": 45,
   "metadata": {},
   "outputs": [
    {
     "data": {
      "text/plain": [
       "False"
      ]
     },
     "execution_count": 45,
     "metadata": {},
     "output_type": "execute_result"
    }
   ],
   "source": [
    "'rhombus' in setOfShapes"
   ]
  },
  {
   "cell_type": "code",
   "execution_count": 46,
   "metadata": {},
   "outputs": [
    {
     "data": {
      "text/plain": [
       "{'polygon', 'square'}"
      ]
     },
     "execution_count": 46,
     "metadata": {},
     "output_type": "execute_result"
    }
   ],
   "source": [
    "favoriteShapes = ['circle', 'triangle', 'hexagon']\n",
    "setOfFavoriteShapes = set(favoriteShapes)\n",
    "setOfShapes - setOfFavoriteShapes"
   ]
  },
  {
   "cell_type": "code",
   "execution_count": 47,
   "metadata": {},
   "outputs": [
    {
     "data": {
      "text/plain": [
       "{'circle', 'triangle'}"
      ]
     },
     "execution_count": 47,
     "metadata": {},
     "output_type": "execute_result"
    }
   ],
   "source": [
    "setOfShapes & setOfFavoriteShapes"
   ]
  },
  {
   "cell_type": "code",
   "execution_count": 48,
   "metadata": {},
   "outputs": [
    {
     "data": {
      "text/plain": [
       "{'circle', 'hexagon', 'polygon', 'square', 'triangle'}"
      ]
     },
     "execution_count": 48,
     "metadata": {},
     "output_type": "execute_result"
    }
   ],
   "source": [
    "setOfShapes | setOfFavoriteShapes"
   ]
  },
  {
   "attachments": {},
   "cell_type": "markdown",
   "metadata": {},
   "source": [
    "**Note that the objects in the set are unordered; you cannot assume that\n",
    "their traversal or print order will be the same across machines!**"
   ]
  },
  {
   "attachments": {},
   "cell_type": "markdown",
   "metadata": {},
   "source": [
    "#### Dictionaries\n",
    "\n",
    "The last built-in data structure is the *dictionary* which stores a map\n",
    "from one type of object (the key) to another (the value). The key must\n",
    "be an immutable type (string, number, or tuple). The value can be any\n",
    "Python data type.\n",
    "\n",
    "Note: In the example below, the printed order of the keys returned by\n",
    "Python could be different than shown below. The reason is that unlike\n",
    "lists which have a fixed ordering, a dictionary is simply a hash table\n",
    "for which there is no fixed ordering of the keys (like HashMaps in\n",
    "Java). The order of the keys depends on how exactly the hashing\n",
    "algorithm maps keys to buckets, and will usually seem arbitrary. Your\n",
    "code should not rely on key ordering, and you should not be surprised if\n",
    "even a small modification to how your code uses a dictionary results in\n",
    "a new key ordering."
   ]
  },
  {
   "cell_type": "code",
   "execution_count": 49,
   "metadata": {},
   "outputs": [
    {
     "data": {
      "text/plain": [
       "56.0"
      ]
     },
     "execution_count": 49,
     "metadata": {},
     "output_type": "execute_result"
    }
   ],
   "source": [
    "studentIds = {'knuth': 42.0, 'turing': 56.0, 'nash': 92.0}\n",
    "studentIds['turing']"
   ]
  },
  {
   "cell_type": "code",
   "execution_count": 50,
   "metadata": {},
   "outputs": [
    {
     "data": {
      "text/plain": [
       "{'knuth': 42.0, 'turing': 56.0, 'nash': 'ninety-two'}"
      ]
     },
     "execution_count": 50,
     "metadata": {},
     "output_type": "execute_result"
    }
   ],
   "source": [
    "studentIds['nash'] = 'ninety-two'\n",
    "studentIds"
   ]
  },
  {
   "cell_type": "code",
   "execution_count": 51,
   "metadata": {},
   "outputs": [
    {
     "data": {
      "text/plain": [
       "{'turing': 56.0, 'nash': 'ninety-two'}"
      ]
     },
     "execution_count": 51,
     "metadata": {},
     "output_type": "execute_result"
    }
   ],
   "source": [
    "del studentIds['knuth']\n",
    "studentIds\n"
   ]
  },
  {
   "cell_type": "code",
   "execution_count": 52,
   "metadata": {},
   "outputs": [
    {
     "data": {
      "text/plain": [
       "{'turing': 56.0, 'nash': 'ninety-two', 'knuth': [42.0, 'forty-two']}"
      ]
     },
     "execution_count": 52,
     "metadata": {},
     "output_type": "execute_result"
    }
   ],
   "source": [
    "studentIds['knuth'] = [42.0, 'forty-two']\n",
    "studentIds"
   ]
  },
  {
   "cell_type": "code",
   "execution_count": 53,
   "metadata": {},
   "outputs": [
    {
     "data": {
      "text/plain": [
       "dict_keys(['turing', 'nash', 'knuth'])"
      ]
     },
     "execution_count": 53,
     "metadata": {},
     "output_type": "execute_result"
    }
   ],
   "source": [
    "studentIds.keys()"
   ]
  },
  {
   "cell_type": "code",
   "execution_count": 54,
   "metadata": {},
   "outputs": [
    {
     "data": {
      "text/plain": [
       "dict_values([56.0, 'ninety-two', [42.0, 'forty-two']])"
      ]
     },
     "execution_count": 54,
     "metadata": {},
     "output_type": "execute_result"
    }
   ],
   "source": [
    "studentIds.values()"
   ]
  },
  {
   "cell_type": "code",
   "execution_count": 55,
   "metadata": {},
   "outputs": [
    {
     "data": {
      "text/plain": [
       "dict_items([('turing', 56.0), ('nash', 'ninety-two'), ('knuth', [42.0, 'forty-two'])])"
      ]
     },
     "execution_count": 55,
     "metadata": {},
     "output_type": "execute_result"
    }
   ],
   "source": [
    "studentIds.items()"
   ]
  },
  {
   "cell_type": "code",
   "execution_count": 56,
   "metadata": {},
   "outputs": [
    {
     "data": {
      "text/plain": [
       "3"
      ]
     },
     "execution_count": 56,
     "metadata": {},
     "output_type": "execute_result"
    }
   ],
   "source": [
    "len(studentIds)"
   ]
  },
  {
   "attachments": {},
   "cell_type": "markdown",
   "metadata": {},
   "source": [
    "As with nested lists, you can also create dictionaries of dictionaries.\n",
    "\n",
    "### Exercise: Dictionaries\n",
    "\n",
    "Use `dir` and `help` to learn\n",
    "about the functions you can call on dictionaries."
   ]
  },
  {
   "cell_type": "code",
   "execution_count": null,
   "metadata": {},
   "outputs": [],
   "source": []
  },
  {
   "attachments": {},
   "cell_type": "markdown",
   "metadata": {},
   "source": [
    "### Writing Scripts\n",
    "\n",
    "Now that you've got a handle on using Python interactively, let's write\n",
    "a simple Python script that demonstrates Python's\n",
    "`for` loop. Open the file called\n",
    "`foreach.py`, which should contain the following\n",
    "code:"
   ]
  },
  {
   "cell_type": "code",
   "execution_count": 57,
   "metadata": {},
   "outputs": [
    {
     "name": "stdout",
     "output_type": "stream",
     "text": [
      "apples for sale\n",
      "oranges for sale\n",
      "pears for sale\n",
      "bananas for sale\n",
      "apples are too expensive!\n",
      "oranges cost 1.500000 a pound\n",
      "pears cost 1.750000 a pound\n"
     ]
    }
   ],
   "source": [
    "# This is what a comment looks like\n",
    "fruits = ['apples', 'oranges', 'pears', 'bananas']\n",
    "for fruit in fruits:\n",
    "    print(fruit + ' for sale')\n",
    "\n",
    "fruitPrices = {'apples': 2.00, 'oranges': 1.50, 'pears': 1.75}\n",
    "for fruit, price in fruitPrices.items():\n",
    "    if price < 2.00:\n",
    "        print('%s cost %f a pound' % (fruit, price))\n",
    "    else:\n",
    "        print(fruit + ' are too expensive!')"
   ]
  },
  {
   "attachments": {},
   "cell_type": "markdown",
   "metadata": {},
   "source": [
    "Remember that the print statements listing the costs may be in a\n",
    "different order on your screen than in this tutorial; that's due to the\n",
    "fact that we're looping over dictionary keys, which are unordered. To\n",
    "learn more about control structures (e.g., `if` and\n",
    "`else`) in Python, check out the official [Python\n",
    "tutorial section on this topic](https://docs.python.org/3.6/tutorial/).\n",
    "\n",
    "If you like functional programming you might also like\n",
    "`map` and `filter`:"
   ]
  },
  {
   "cell_type": "code",
   "execution_count": 58,
   "metadata": {},
   "outputs": [
    {
     "data": {
      "text/plain": [
       "[1, 4, 9]"
      ]
     },
     "execution_count": 58,
     "metadata": {},
     "output_type": "execute_result"
    }
   ],
   "source": [
    "list(map(lambda x: x * x, [1, 2, 3]))"
   ]
  },
  {
   "cell_type": "code",
   "execution_count": 59,
   "metadata": {},
   "outputs": [
    {
     "data": {
      "text/plain": [
       "[4, 5, 4]"
      ]
     },
     "execution_count": 59,
     "metadata": {},
     "output_type": "execute_result"
    }
   ],
   "source": [
    "list(filter(lambda x: x > 3, \n",
    "     [1, 2, 3, 4, 5, 4, 3, 2, 1]))"
   ]
  },
  {
   "attachments": {},
   "cell_type": "markdown",
   "metadata": {},
   "source": [
    "The next snippet of code demonstrates Python's *list comprehension*\n",
    "construction:"
   ]
  },
  {
   "cell_type": "code",
   "execution_count": 60,
   "metadata": {},
   "outputs": [
    {
     "name": "stdout",
     "output_type": "stream",
     "text": [
      "[1, 3, 5]\n",
      "[2, 4, 6]\n"
     ]
    }
   ],
   "source": [
    "nums = [1, 2, 3, 4, 5, 6]\n",
    "plusOneNums = [x + 1 for x in nums]\n",
    "oddNums = [x for x in nums if x % 2 == 1]\n",
    "print(oddNums)\n",
    "oddNumsPlusOne = [x + 1 for x in nums if x % 2 == 1]\n",
    "print(oddNumsPlusOne)"
   ]
  },
  {
   "attachments": {},
   "cell_type": "markdown",
   "metadata": {},
   "source": [
    "This code is in a file called `listcomp.py`, which\n",
    "you can run:\n",
    "\n",
    "```bash\n",
    "dcooper@molly:~$ python listcomp.py\n",
    "[1, 3, 5]\n",
    "[2, 4, 6]\n",
    "```"
   ]
  },
  {
   "attachments": {},
   "cell_type": "markdown",
   "metadata": {},
   "source": [
    "### Exercise: List Comprehensions\n",
    "\n",
    "Write a list comprehension which, from a list, generates a lowercased\n",
    "version of each string that has length greater than five. You can find\n",
    "the solution in `listcomp2.py`."
   ]
  },
  {
   "attachments": {},
   "cell_type": "markdown",
   "metadata": {},
   "source": [
    "### Beware of Indendation!\n",
    "\n",
    "Unlike many other languages, Python uses the indentation in the source\n",
    "code for interpretation. So for instance, for the following script will output: `Thank you for playing`\n",
    "\n"
   ]
  },
  {
   "cell_type": "code",
   "execution_count": 61,
   "metadata": {},
   "outputs": [
    {
     "name": "stdout",
     "output_type": "stream",
     "text": [
      "Thank you for playing\n"
     ]
    }
   ],
   "source": [
    "if 0 == 1:\n",
    "    print('We are in a world of arithmetic pain')\n",
    "print('Thank you for playing')\n"
   ]
  },
  {
   "attachments": {},
   "cell_type": "markdown",
   "metadata": {},
   "source": [
    "But if we had written the script as\n"
   ]
  },
  {
   "cell_type": "code",
   "execution_count": 62,
   "metadata": {},
   "outputs": [],
   "source": [
    "if 0 == 1:\n",
    "    print('We are in a world of arithmetic pain')\n",
    "    print('Thank you for playing')"
   ]
  },
  {
   "attachments": {},
   "cell_type": "markdown",
   "metadata": {},
   "source": [
    "there would be no output. The moral of the story: be careful how you\n",
    "indent! It's best to use four spaces for indentation -- that's what the\n",
    "course code uses."
   ]
  },
  {
   "attachments": {},
   "cell_type": "markdown",
   "metadata": {},
   "source": [
    "### Tabs vs Spaces\n",
    "\n",
    "Because Python uses indentation for code evaluation, it needs to keep\n",
    "track of the level of indentation across code blocks. This means that if\n",
    "your Python file switches from using tabs as indentation to spaces as\n",
    "indentation, the Python interpreter will not be able to resolve the\n",
    "ambiguity of the indentation level and throw an exception. Even though\n",
    "the code can be lined up visually in your text editor, Python \"sees\" a\n",
    "change in indentation and most likely will throw an exception (or\n",
    "rarely, produce unexpected behavior).\n",
    "\n",
    "This most commonly happens when opening up a Python file that uses an\n",
    "indentation scheme that is opposite from what your text editor uses\n",
    "(aka, your text editor uses spaces and the file uses tabs). When you\n",
    "write new lines in a code block, there will be a mix of tabs and spaces,\n",
    "even though the whitespace is aligned. For a longer discussion on tabs\n",
    "vs spaces, see\n",
    "[this](http://stackoverflow.com/questions/119562/tabs-versus-spaces-in-python-programming)\n",
    "discussion on StackOverflow."
   ]
  },
  {
   "attachments": {},
   "cell_type": "markdown",
   "metadata": {},
   "source": [
    "### Writing Functions\n",
    "\n",
    "As in Java, in Python you can define your own functions:"
   ]
  },
  {
   "cell_type": "code",
   "execution_count": 63,
   "metadata": {},
   "outputs": [
    {
     "name": "stdout",
     "output_type": "stream",
     "text": [
      "That'll be 4.800000 please\n",
      "Sorry we don't have coconuts\n"
     ]
    }
   ],
   "source": [
    "fruitPrices = {'apples': 2.00, 'oranges': 1.50, 'pears': 1.75}\n",
    "\n",
    "def buyFruit(fruit, numPounds):\n",
    "    if fruit not in fruitPrices:\n",
    "        print(\"Sorry we don't have %s\" % (fruit))\n",
    "    else:\n",
    "        cost = fruitPrices[fruit] * numPounds\n",
    "        print(\"That'll be %f please\" % (cost))\n",
    "\n",
    "# Main Function\n",
    "if __name__ == '__main__':\n",
    "    buyFruit('apples', 2.4)\n",
    "    buyFruit('coconuts', 2)"
   ]
  },
  {
   "attachments": {},
   "cell_type": "markdown",
   "metadata": {},
   "source": [
    "Rather than having a `main` function as in Java, the\n",
    "`__name__ == '__main__'` check is used to delimit\n",
    "expressions which are executed when the file is called as a script from\n",
    "the command line. The code after the main check is thus the same sort of\n",
    "code you would put in a `main` function in Java."
   ]
  },
  {
   "attachments": {},
   "cell_type": "markdown",
   "metadata": {},
   "source": [
    "Save this script as *fruit.py* and run it:\n",
    "\n",
    "```bash\n",
    "(csc481) dcooper@molly:~$ python fruit.py\n",
    "```\n",
    "```\n",
    "That'll be 4.800000 please\n",
    "Sorry we don't have coconuts\n",
    "```"
   ]
  },
  {
   "attachments": {},
   "cell_type": "markdown",
   "metadata": {},
   "source": [
    "### Advanced Exercise\n",
    "\n",
    "Write a `quickSort` function in Python using list\n",
    "comprehensions. Use the first element as the pivot. You can find the\n",
    "solution in `quickSort.py`."
   ]
  },
  {
   "attachments": {},
   "cell_type": "markdown",
   "metadata": {},
   "source": [
    "### Object Basics\n",
    "\n",
    "Although this isn't a class in object-oriented programming, you'll have\n",
    "to use some objects in the programming projects, and so it's worth\n",
    "covering the basics of objects in Python. An object encapsulates data\n",
    "and provides functions for interacting with that data.\n",
    "\n",
    "\n",
    "#### Defining Classes\n",
    "\n",
    "Here's an example of defining a class named\n",
    "`FruitShop`:"
   ]
  },
  {
   "cell_type": "code",
   "execution_count": 64,
   "metadata": {},
   "outputs": [],
   "source": [
    "class FruitShop:\n",
    "\n",
    "    def __init__(self, name, fruitPrices):\n",
    "        \"\"\"\n",
    "            name: Name of the fruit shop\n",
    "\n",
    "            fruitPrices: Dictionary with keys as fruit\n",
    "            strings and prices for values e.g.\n",
    "            {'apples': 2.00, 'oranges': 1.50, 'pears': 1.75}\n",
    "        \"\"\"\n",
    "        self.fruitPrices = fruitPrices\n",
    "        self.name = name\n",
    "        print('Welcome to %s fruit shop' % (name))\n",
    "\n",
    "    def getCostPerPound(self, fruit):\n",
    "        \"\"\"\n",
    "            fruit: Fruit string\n",
    "        Returns cost of 'fruit', assuming 'fruit'\n",
    "        is in our inventory or None otherwise\n",
    "        \"\"\"\n",
    "        if fruit not in self.fruitPrices:\n",
    "            return None\n",
    "        return self.fruitPrices[fruit]\n",
    "\n",
    "    def getPriceOfOrder(self, orderList):\n",
    "        \"\"\"\n",
    "            orderList: List of (fruit, numPounds) tuples\n",
    "\n",
    "        Returns cost of orderList, only including the values of\n",
    "        fruits that this fruit shop has.\n",
    "        \"\"\"\n",
    "        totalCost = 0.0\n",
    "        for fruit, numPounds in orderList:\n",
    "            costPerPound = self.getCostPerPound(fruit)\n",
    "            if costPerPound != None:\n",
    "                totalCost += numPounds * costPerPound\n",
    "        return totalCost\n",
    "\n",
    "    def getName(self):\n",
    "        return self.name"
   ]
  },
  {
   "attachments": {},
   "cell_type": "markdown",
   "metadata": {},
   "source": [
    "The `FruitShop` class has some data, the name of the\n",
    "shop and the prices per pound of some fruit, and it provides functions,\n",
    "or methods, on this data. What advantage is there to wrapping this data\n",
    "in a class?\n",
    "\n",
    "1.  Encapsulating the data prevents it from being altered or used\n",
    "    inappropriately,\n",
    "2.  The abstraction that objects provide make it easier to write\n",
    "    general-purpose code.\n"
   ]
  },
  {
   "attachments": {},
   "cell_type": "markdown",
   "metadata": {},
   "source": [
    "#### Using Objects\n",
    "\n",
    "So how do we make an object and use it? Make sure you have the\n",
    "`FruitShop` implementation in\n",
    "`shop.py`. We then import the code from this file\n",
    "(making it accessible to other scripts) using\n",
    "`import shop`, since `shop.py`\n",
    "is the name of the file. Then, we can create\n",
    "`FruitShop` objects as follows:\n"
   ]
  },
  {
   "cell_type": "code",
   "execution_count": 65,
   "metadata": {},
   "outputs": [
    {
     "name": "stdout",
     "output_type": "stream",
     "text": [
      "Welcome to the Berkeley Bowl fruit shop\n",
      "1.0\n",
      "Apples cost $1.00 at the Berkeley Bowl.\n",
      "Welcome to the Stanford Mall fruit shop\n",
      "4.5\n",
      "Apples cost $4.50 at the Stanford Mall.\n",
      "My, that's expensive!\n"
     ]
    }
   ],
   "source": [
    "import shop\n",
    "\n",
    "shopName = 'the Berkeley Bowl'\n",
    "fruitPrices = {'apples': 1.00, 'oranges': 1.50, 'pears': 1.75}\n",
    "berkeleyShop = shop.FruitShop(shopName, fruitPrices)\n",
    "applePrice = berkeleyShop.getCostPerPound('apples')\n",
    "print(applePrice)\n",
    "print('Apples cost $%.2f at %s.' % (applePrice, shopName))\n",
    "\n",
    "otherName = 'the Stanford Mall'\n",
    "otherFruitPrices = {'kiwis': 6.00, 'apples': 4.50, 'peaches': 8.75}\n",
    "otherFruitShop = shop.FruitShop(otherName, otherFruitPrices)\n",
    "otherPrice = otherFruitShop.getCostPerPound('apples')\n",
    "print(otherPrice)\n",
    "print('Apples cost $%.2f at %s.' % (otherPrice, otherName))\n",
    "print(\"My, that's expensive!\")"
   ]
  },
  {
   "attachments": {},
   "cell_type": "markdown",
   "metadata": {},
   "source": [
    "This code is in `shopTest.py`"
   ]
  },
  {
   "attachments": {},
   "cell_type": "markdown",
   "metadata": {},
   "source": [
    "So what just happended? The `import shop` statement\n",
    "told Python to load all of the functions and classes in\n",
    "`shop.py`. The line\n",
    "`berkeleyShop = shop.FruitShop(shopName, fruitPrices)`\n",
    "constructs an *instance* of the `FruitShop` class\n",
    "defined in *shop.py*, by calling the `__init__`\n",
    "function in that class. Note that we only passed two arguments in, while\n",
    "`__init__` seems to take three arguments:\n",
    "`(self, name, fruitPrices)`. The reason for this is\n",
    "that all methods in a class have `self` as the first\n",
    "argument. The `self` variable's value is\n",
    "automatically set to the object itself; when calling a method, you only\n",
    "supply the remaining arguments. The `self` variable\n",
    "contains all the data (`name` and\n",
    "`fruitPrices`) for the current specific instance\n",
    "(similar to `this` in Java). The print statements\n",
    "use the substitution operator (described in the [Python\n",
    "docs](https://docs.python.org/2/library/stdtypes.html#string-formatting)\n",
    "if you're curious)."
   ]
  },
  {
   "attachments": {},
   "cell_type": "markdown",
   "metadata": {},
   "source": [
    "#### Static vs Instance Variables\n",
    "\n",
    "The following example illustrates how to use static and instance\n",
    "variables in Python.\n",
    "\n",
    "Create the `person_class.py` containing the\n",
    "following code:"
   ]
  },
  {
   "cell_type": "code",
   "execution_count": 66,
   "metadata": {},
   "outputs": [],
   "source": [
    "class Person:\n",
    "    population = 0\n",
    "\n",
    "    def __init__(self, myAge):\n",
    "        self.age = myAge\n",
    "        Person.population += 1\n",
    "\n",
    "    def get_population(self):\n",
    "        return Person.population\n",
    "\n",
    "    def get_age(self):\n",
    "        return self.age"
   ]
  },
  {
   "attachments": {},
   "cell_type": "markdown",
   "metadata": {},
   "source": [
    "Now use the class as follows:\n"
   ]
  },
  {
   "cell_type": "code",
   "execution_count": 67,
   "metadata": {},
   "outputs": [
    {
     "data": {
      "text/plain": [
       "1"
      ]
     },
     "execution_count": 67,
     "metadata": {},
     "output_type": "execute_result"
    }
   ],
   "source": [
    "#import person_class\n",
    "# p1 = person_class.person\n",
    "# use above code to use the file\n",
    "# use the below code to use in the\n",
    "# person from the above cell in this notebook\n",
    "p1 = Person(12)\n",
    "p1.get_population()"
   ]
  },
  {
   "cell_type": "code",
   "execution_count": 68,
   "metadata": {},
   "outputs": [
    {
     "data": {
      "text/plain": [
       "2"
      ]
     },
     "execution_count": 68,
     "metadata": {},
     "output_type": "execute_result"
    }
   ],
   "source": [
    "p2 = Person(63)\n",
    "p1.get_population()"
   ]
  },
  {
   "cell_type": "code",
   "execution_count": 69,
   "metadata": {},
   "outputs": [
    {
     "data": {
      "text/plain": [
       "2"
      ]
     },
     "execution_count": 69,
     "metadata": {},
     "output_type": "execute_result"
    }
   ],
   "source": [
    "p2.get_population()"
   ]
  },
  {
   "cell_type": "code",
   "execution_count": 70,
   "metadata": {},
   "outputs": [
    {
     "data": {
      "text/plain": [
       "12"
      ]
     },
     "execution_count": 70,
     "metadata": {},
     "output_type": "execute_result"
    }
   ],
   "source": [
    "p1.get_age()"
   ]
  },
  {
   "cell_type": "code",
   "execution_count": 71,
   "metadata": {},
   "outputs": [
    {
     "data": {
      "text/plain": [
       "63"
      ]
     },
     "execution_count": 71,
     "metadata": {},
     "output_type": "execute_result"
    }
   ],
   "source": [
    "p2.get_age()"
   ]
  },
  {
   "attachments": {},
   "cell_type": "markdown",
   "metadata": {},
   "source": [
    "In the code above, `age` is an instance variable and\n",
    "`population` is a static variable.\n",
    "`population` is shared by all instances of the\n",
    "`Person` class whereas each instance has its own\n",
    "`age` variable."
   ]
  },
  {
   "attachments": {},
   "cell_type": "markdown",
   "metadata": {},
   "source": [
    "### More Python Tips and Tricks\n",
    "\n",
    "This tutorial has briefly touched on some major aspects of Python that\n",
    "will be relevant to the course. Here are some more useful tidbits:\n",
    "\n",
    "-   Use `range` to generate a sequence of integers,\n",
    "    useful for generating traditional indexed `for`\n",
    "    loops:\n"
   ]
  },
  {
   "cell_type": "code",
   "execution_count": 72,
   "metadata": {},
   "outputs": [
    {
     "name": "stdout",
     "output_type": "stream",
     "text": [
      "c\n",
      "b\n",
      "a\n"
     ]
    }
   ],
   "source": [
    "for index in range(3):\n",
    "        print(lst[index])"
   ]
  },
  {
   "attachments": {},
   "cell_type": "markdown",
   "metadata": {},
   "source": [
    "-   After importing a file, if you edit a source file, the changes will\n",
    "    not be immediately propagated in the interpreter. For this, use the\n",
    "    `reload` command:\n",
    "\n",
    "  "
   ]
  },
  {
   "cell_type": "code",
   "execution_count": 73,
   "metadata": {},
   "outputs": [
    {
     "data": {
      "text/plain": [
       "<module 'shop' from '/Users/dcooper/Documents/WestChester/CSC481/GitFiles/CSC481-berkeley-diagnostic/shop.py'>"
      ]
     },
     "execution_count": 73,
     "metadata": {},
     "output_type": "execute_result"
    }
   ],
   "source": [
    "import importlib\n",
    "importlib.reload(shop)"
   ]
  },
  {
   "attachments": {},
   "cell_type": "markdown",
   "metadata": {},
   "source": [
    "### Troubleshooting\n",
    "\n",
    "These are some problems (and their solutions) that new Python learners\n",
    "commonly encounter.\n",
    "\n",
    "-   **Problem:** ImportError: No module named py\n",
    "\n",
    "    **Solution:** For import statements with\n",
    "    `import <package-name>`, do *not* include the\n",
    "    file extension (i.e. the `.py` string). For\n",
    "    example, you should use: `import shop` NOT:\n",
    "    `import shop.py`\n",
    "\n",
    "-   **Problem:** NameError: name 'MY VARIABLE' is not defined Even after\n",
    "    importing you may see this.\n",
    "\n",
    "    **Solution:** To access a member of a module, you have to type\n",
    "    `MODULE NAME.MEMBER NAME`, where\n",
    "    `MODULE NAME` is the name of the\n",
    "    `.py` file, and\n",
    "    `MEMBER NAME` is the name of the variable (or\n",
    "    function) you are trying to access.\n",
    "\n",
    "-   **Problem:** TypeError: 'dict' object is not callable\n",
    "\n",
    "    **Solution:** Dictionary looks up are done using square brackets: \\[\n",
    "    and \\]. NOT parenthesis: ( and ).\n",
    "\n",
    "-   **Problem:** ValueError: too many values to unpack\n",
    "\n",
    "    **Solution:** Make sure the number of variables you are assigning in\n",
    "    a `for` loop matches the number of elements in\n",
    "    each item of the list. Similarly for working with tuples.\n",
    "\n",
    "    For example, if `pair` is a tuple of two\n",
    "    elements (e.g. `pair =('apple', 2.0)`) then the\n",
    "    following code would cause the \"too many values to unpack error\":\n",
    "\n",
    "    `(a, b, c) = pair`\n",
    "\n",
    "    Here is a problematic scenario involving a `for`\n",
    "    loop:\n",
    "\n",
    "    \n",
    "    ``` python\n",
    "      pairList = [('apples', 2.00), ('oranges', 1.50), ('pears', 1.75)]\n",
    "      for fruit, price, color in pairList:\n",
    "          print('%s fruit costs %f and is the color %s' % (fruit, price, color))\n",
    "    ```\n",
    "    \n",
    "\n",
    "-   **Problem:** AttributeError: 'list' object has no attribute 'length'\n",
    "    (or something similar)\n",
    "\n",
    "    **Solution:** Finding length of lists is done using\n",
    "    `len(NAME OF LIST)`.\n",
    "\n",
    "-   **Problem:** Changes to a file are not taking effect.\n",
    "\n",
    "    **Solution:**\n",
    "\n",
    "    1.  Make sure you are saving all your files after any changes.\n",
    "    2.  If you are editing a file in a window different from the one you\n",
    "        are using to execute python, make sure you\n",
    "        `reload(_YOUR_MODULE_)` to guarantee your\n",
    "        changes are being reflected. `reload` works\n",
    "        similarly to `import`.\n",
    "\n",
    "\n",
    "\n",
    "### More References\n",
    "\n",
    "-   The place to go for more Python information:\n",
    "    [www.python.org](http://www.python.org/)\n",
    "-   A good reference book: [Learning\n",
    "    Python](http://oreilly.com/catalog/9780596513986/) (From the UCB\n",
    "    campus, you can read the whole book online)\n"
   ]
  }
 ],
 "metadata": {
  "kernelspec": {
   "display_name": "Python 3",
   "language": "python",
   "name": "python3"
  },
  "language_info": {
   "codemirror_mode": {
    "name": "ipython",
    "version": 3
   },
   "file_extension": ".py",
   "mimetype": "text/x-python",
   "name": "python",
   "nbconvert_exporter": "python",
   "pygments_lexer": "ipython3",
   "version": "3.8.11"
  },
  "orig_nbformat": 4,
  "vscode": {
   "interpreter": {
    "hash": "38673253a15cd620f662cb3751e3dad1b9326b5b014ef363bad52dab645ebffb"
   }
  }
 },
 "nbformat": 4,
 "nbformat_minor": 2
}
